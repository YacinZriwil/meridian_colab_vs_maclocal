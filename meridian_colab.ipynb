{
  "cells": [
    {
      "cell_type": "markdown",
      "metadata": {
        "id": "view-in-github",
        "colab_type": "text"
      },
      "source": [
        "<a href=\"https://colab.research.google.com/github/YacinZriwil/meridian_colab_vs_maclocal/blob/main/meridian_colab.ipynb\" target=\"_parent\"><img src=\"https://colab.research.google.com/assets/colab-badge.svg\" alt=\"Open In Colab\"/></a>"
      ]
    },
    {
      "cell_type": "code",
      "source": [
        "!pip install --upgrade -q google-meridian[colab,and-cuda]"
      ],
      "metadata": {
        "id": "1H82R8-5rQ-K"
      },
      "execution_count": null,
      "outputs": []
    },
    {
      "cell_type": "code",
      "execution_count": null,
      "metadata": {
        "id": "Fhwt1wzgLwpZ"
      },
      "outputs": [],
      "source": [
        "import numpy as np\n",
        "import pandas as pd\n",
        "import tensorflow as tf\n",
        "import tensorflow_probability as tfp\n",
        "import arviz as az\n",
        "\n",
        "import IPython\n",
        "\n",
        "from meridian import constants\n",
        "from meridian.data import load\n",
        "from meridian.data import test_utils\n",
        "from meridian.model import model\n",
        "from meridian.model import spec\n",
        "from meridian.model import prior_distribution\n",
        "from meridian.analysis import optimizer\n",
        "from meridian.analysis import analyzer\n",
        "from meridian.analysis import visualizer\n",
        "from meridian.analysis import summarizer\n",
        "from meridian.analysis import formatter\n",
        "\n",
        "# check if GPU is available\n",
        "from psutil import virtual_memory\n",
        "ram_gb = virtual_memory().total / 1e9\n",
        "print('Your runtime has {:.1f} gigabytes of available RAM\\n'.format(ram_gb))\n",
        "print(\"Num GPUs Available: \", len(tf.config.experimental.list_physical_devices('GPU')))\n",
        "print(\"Num CPUs Available: \", len(tf.config.experimental.list_physical_devices('CPU')))"
      ]
    },
    {
      "cell_type": "markdown",
      "metadata": {
        "id": "kiM0UrN6qbIP"
      },
      "source": [
        "<a name=\"load-data\"></a>\n",
        "## Step 1: Load the data"
      ]
    },
    {
      "cell_type": "code",
      "execution_count": null,
      "metadata": {
        "id": "6n6OcBK7q3W6"
      },
      "outputs": [],
      "source": [
        "data_path = \"clean_data.csv\""
      ]
    },
    {
      "cell_type": "code",
      "source": [
        "import pandas as pd\n",
        "# Afficher seulement les colonnes numériques\n",
        "df = pd.read_csv(\"clean_data.csv\")  # remplace par ton dataframe réels\n",
        "numeric_df = df.select_dtypes(include='number')\n",
        "\n",
        "print(\"Means:\\n\", numeric_df.mean())\n",
        "print(\"Variances:\\n\", numeric_df.var())\n",
        "print(\"Correlations:\\n\", numeric_df.corr())"
      ],
      "metadata": {
        "id": "hChrLGrun5kf"
      },
      "execution_count": null,
      "outputs": []
    },
    {
      "cell_type": "markdown",
      "metadata": {
        "id": "z18Mo-22x0lY"
      },
      "source": [
        "Load the [simulated dataset in CSV format](https://github.com/google/meridian/blob/main/meridian/data/simulated_data/csv/geo_all_channels.csv) as follows."
      ]
    },
    {
      "cell_type": "markdown",
      "metadata": {
        "id": "tZd-ik8NbjK6"
      },
      "source": [
        "1\\. Map the column names to their corresponding variable types. For example, the column names 'GQV' and 'Competitor_Sales' are mapped to `controls`. The required variable types are `time`, `controls`, `population`, `kpi`, `revenue_per_kpi`, `media` and `spend`. If your data includes organic media or non-media treatments, you can add them using `organic_media` and `non_media_treatments` arguments. For the definition of each variable, see\n",
        "[Collect and organize your data](https://developers.google.com/meridian/docs/user-guide/collect-data)."
      ]
    },
    {
      "cell_type": "code",
      "execution_count": null,
      "metadata": {
        "id": "7sV1ChiEYuyD"
      },
      "outputs": [],
      "source": [
        "coord_to_columns = load.CoordToColumns(\n",
        "    time='date',\n",
        "    kpi='dependantVar',\n",
        "    controls=[],  # obligatoire, même vide\n",
        "    media=[\n",
        "        'Cinema_exposure', 'Sponsoring_Activation_exposure', 'Content_exposure',\n",
        "        'Display_exposure', 'OLA_exposure', 'OLV_exposure', 'OOH_exposure',\n",
        "        'Print_exposure', 'Radio_exposure', 'SearchBing_exposure',\n",
        "        'DemandGen_exposure', 'Discovery_exposure', 'Pmax_exposure',\n",
        "        'GoogleDisplay_exposure', 'SearchGoogle_exposure',\n",
        "        'Social_exposure', 'Télé_exposure',\n",
        "    ],\n",
        "    media_spend=[\n",
        "        'Cinema', 'Sponsoring_Activation', 'Content', 'Display', 'OLA',\n",
        "        'OLV', 'OOH', 'Print', 'Radio', 'SearchBing', 'DemandGen',\n",
        "        'Discovery', 'Pmax', 'GoogleDisplay', 'SearchGoogle', 'Social', 'Télé',\n",
        "    ],\n",
        ")\n"
      ]
    },
    {
      "cell_type": "markdown",
      "metadata": {
        "id": "8JBDZzl80BrY"
      },
      "source": [
        "2\\. Map the media variables and the media spends to the designated channel names intended for display in the two-page HTML output. In the following example,  'Channel0_impression' and 'Channel0_spend' are connected to the same channel, 'Channel0'."
      ]
    },
    {
      "cell_type": "code",
      "execution_count": null,
      "metadata": {
        "id": "4qdTSk4a0znn"
      },
      "outputs": [],
      "source": [
        "correct_media_to_channel = {\n",
        "    'Cinema_exposure': 'Cinema',\n",
        "    'Sponsoring_Activation_exposure': 'Sponsoring_Activation',\n",
        "    'Content_exposure': 'Content',\n",
        "    'Display_exposure': 'Display',\n",
        "    'OLA_exposure': 'OLA',\n",
        "    'OLV_exposure': 'OLV',\n",
        "    'OOH_exposure': 'OOH',\n",
        "    'Print_exposure': 'Print',\n",
        "    'Radio_exposure': 'Radio',\n",
        "    'SearchBing_exposure': 'SearchBing',\n",
        "    'DemandGen_exposure': 'DemandGen',\n",
        "    'Discovery_exposure': 'Discovery',\n",
        "    'Pmax_exposure': 'Pmax',\n",
        "    'GoogleDisplay_exposure': 'GoogleDisplay',\n",
        "    'SearchGoogle_exposure': 'SearchGoogle',\n",
        "    'Social_exposure': 'Social',\n",
        "    'Télé_exposure': 'Télé',\n",
        "}\n",
        "\n",
        "correct_media_spend_to_channel = {\n",
        "    'Cinema': 'Cinema',\n",
        "    'Sponsoring_Activation': 'Sponsoring_Activation',\n",
        "    'Content': 'Content',\n",
        "    'Display': 'Display',\n",
        "    'OLA': 'OLA',\n",
        "    'OLV': 'OLV',\n",
        "    'OOH': 'OOH',\n",
        "    'Print': 'Print',\n",
        "    'Radio': 'Radio',\n",
        "    'SearchBing': 'SearchBing',\n",
        "    'DemandGen': 'DemandGen',\n",
        "    'Discovery': 'Discovery',\n",
        "    'Pmax': 'Pmax',\n",
        "    'GoogleDisplay': 'GoogleDisplay',\n",
        "    'SearchGoogle': 'SearchGoogle',\n",
        "    'Social': 'Social',\n",
        "    'Télé': 'Télé',\n",
        "}\n"
      ]
    },
    {
      "cell_type": "markdown",
      "metadata": {
        "id": "LNr75vQL1Zru"
      },
      "source": [
        "3\\. Load the CSV data using `CsvDataLoader`. Note that `csv_path` is the path to the data file location."
      ]
    },
    {
      "cell_type": "code",
      "execution_count": null,
      "metadata": {
        "id": "udaLGvwl1U8B"
      },
      "outputs": [],
      "source": [
        "loader = load.CsvDataLoader(\n",
        "    csv_path=data_path,\n",
        "    kpi_type='non_revenue',\n",
        "    coord_to_columns=coord_to_columns,\n",
        "    media_to_channel=correct_media_to_channel,\n",
        "    media_spend_to_channel=correct_media_spend_to_channel,\n",
        ")\n",
        "data = loader.load()"
      ]
    },
    {
      "cell_type": "markdown",
      "metadata": {
        "id": "FO6pDd6f2V1L"
      },
      "source": [
        "<a name=\"configure-model\"></a>\n",
        "## Step 2: Configure the model"
      ]
    },
    {
      "cell_type": "markdown",
      "metadata": {
        "id": "a_mQI7HzxxK4"
      },
      "source": [
        "Meridian uses Bayesian framework and Markov Chain Monte Carlo (MCMC) algorithms to sample from the posterior distribution.\n",
        "\n",
        "1\\. Inititalize the `Meridian` class by passing the loaded data and the customized model specification. One advantage of Meridian lies in its capacity to calibrate the model directly through ROI priors, as described in [Media Mix Model Calibration With Bayesian Priors](https://research.google/pubs/media-mix-model-calibration-with-bayesian-priors/). In this particular example, the ROI priors for all media channels are identical, with each being represented as Lognormal(0.2, 0.9)."
      ]
    },
    {
      "cell_type": "code",
      "execution_count": null,
      "metadata": {
        "id": "8XNDd7HX1qTn"
      },
      "outputs": [],
      "source": [
        "roi_mu = -1.5  # ROI central plus bas (~0.22)\n",
        "roi_sigma = 1.5  # Très tolérant, large éventail\n",
        "prior = prior_distribution.PriorDistribution(\n",
        "    roi_m=tfp.distributions.LogNormal(roi_mu, roi_sigma, name=constants.ROI_M)\n",
        ")\n",
        "model_spec = spec.ModelSpec(prior=prior)\n",
        "\n",
        "mmm = model.Meridian(input_data=data, model_spec=model_spec)"
      ]
    },
    {
      "cell_type": "markdown",
      "metadata": {
        "id": "kPQBPlX8cmEv"
      },
      "source": [
        "2\\. Use the `sample_prior()` and `sample_posterior()` methods to obtain samples from the prior and posterior distributions of model parameters. If you are using the T4 GPU runtime this step may take about 10 minutes for the provided data set."
      ]
    },
    {
      "cell_type": "code",
      "execution_count": null,
      "metadata": {
        "id": "KVB3avRdcRNz"
      },
      "outputs": [],
      "source": [
        "%%time\n",
        "mmm.sample_prior(500)\n",
        "mmm.sample_posterior(n_chains=10, n_adapt=2000, n_burnin=500, n_keep=1000, seed=1)"
      ]
    },
    {
      "cell_type": "markdown",
      "metadata": {
        "id": "5WUM2V26cspo"
      },
      "source": [
        "For more information about configuring the parameters and using a customized model specification, such as setting different ROI priors for each media channel, see [Configure the model](https://developers.google.com/meridian/docs/user-guide/configure-model)."
      ]
    },
    {
      "cell_type": "markdown",
      "metadata": {
        "id": "t9oECJwUdJTm"
      },
      "source": [
        "<a name=\"model-diagnostics\"></a>\n",
        "## Step 3: Run model diagnostics"
      ]
    },
    {
      "cell_type": "markdown",
      "metadata": {
        "id": "kSzK6JeMxrV6"
      },
      "source": [
        "After the model is built, you must assess convergence, debug the model if needed, and then assess the model fit.\n",
        "\n",
        "1\\. Assess convergence. Run the following code to generate r-hat statistics. R-hat close to 1.0 indicate convergence. R-hat < 1.2 indicates approximate convergence and is a reasonable threshold for many problems."
      ]
    },
    {
      "cell_type": "code",
      "execution_count": null,
      "metadata": {
        "id": "rFuc7B86yLvM"
      },
      "outputs": [],
      "source": [
        "model_diagnostics = visualizer.ModelDiagnostics(mmm)\n",
        "model_diagnostics.plot_rhat_boxplot()"
      ]
    }
  ],
  "metadata": {
    "accelerator": "GPU",
    "colab": {
      "gpuType": "T4",
      "private_outputs": true,
      "provenance": [],
      "include_colab_link": true
    },
    "kernelspec": {
      "display_name": "Python 3",
      "name": "python3"
    },
    "language_info": {
      "codemirror_mode": {
        "name": "ipython",
        "version": 3
      },
      "file_extension": ".py",
      "mimetype": "text/x-python",
      "name": "python",
      "nbconvert_exporter": "python",
      "pygments_lexer": "ipython3",
      "version": "3.12.10"
    }
  },
  "nbformat": 4,
  "nbformat_minor": 0
}