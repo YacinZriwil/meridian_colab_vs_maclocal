{
  "cells": [
    {
      "cell_type": "code",
      "execution_count": 1,
      "metadata": {
        "id": "Fhwt1wzgLwpZ"
      },
      "outputs": [
        {
          "name": "stdout",
          "output_type": "stream",
          "text": [
            "Your runtime has 17.2 gigabytes of available RAM\n",
            "\n",
            "Num GPUs Available:  0\n",
            "Num CPUs Available:  1\n"
          ]
        }
      ],
      "source": [
        "import numpy as np\n",
        "import pandas as pd\n",
        "import tensorflow as tf\n",
        "import tensorflow_probability as tfp\n",
        "import arviz as az\n",
        "\n",
        "import IPython\n",
        "\n",
        "from meridian import constants\n",
        "from meridian.data import load\n",
        "from meridian.data import test_utils\n",
        "from meridian.model import model\n",
        "from meridian.model import spec\n",
        "from meridian.model import prior_distribution\n",
        "from meridian.analysis import optimizer\n",
        "from meridian.analysis import analyzer\n",
        "from meridian.analysis import visualizer\n",
        "from meridian.analysis import summarizer\n",
        "from meridian.analysis import formatter\n",
        "\n",
        "# check if GPU is available\n",
        "from psutil import virtual_memory\n",
        "ram_gb = virtual_memory().total / 1e9\n",
        "print('Your runtime has {:.1f} gigabytes of available RAM\\n'.format(ram_gb))\n",
        "print(\"Num GPUs Available: \", len(tf.config.experimental.list_physical_devices('GPU')))\n",
        "print(\"Num CPUs Available: \", len(tf.config.experimental.list_physical_devices('CPU')))"
      ]
    },
    {
      "cell_type": "markdown",
      "metadata": {
        "id": "kiM0UrN6qbIP"
      },
      "source": [
        "<a name=\"load-data\"></a>\n",
        "## Step 1: Load the data"
      ]
    },
    {
      "cell_type": "code",
      "execution_count": 2,
      "metadata": {
        "id": "6n6OcBK7q3W6"
      },
      "outputs": [],
      "source": [
        "data_path = \"../data/clean_data.csv\""
      ]
    },
    {
      "cell_type": "code",
      "execution_count": 3,
      "metadata": {
        "id": "hChrLGrun5kf"
      },
      "outputs": [
        {
          "name": "stdout",
          "output_type": "stream",
          "text": [
            "Means:\n",
            " Unnamed: 0                           89.000000\n",
            "dependantVar                        362.706215\n",
            "Cinema                              920.903931\n",
            "Cinema_exposure                     920.903931\n",
            "Sponsoring_Activation              2372.881337\n",
            "Sponsoring_Activation_exposure     2372.881337\n",
            "Content                             334.081355\n",
            "Content_exposure                    334.081355\n",
            "Display                            4159.785143\n",
            "Display_exposure                   4159.785143\n",
            "OLA                                1096.209636\n",
            "OLA_exposure                       1096.209636\n",
            "OLV                                6481.474327\n",
            "OLV_exposure                       6481.474327\n",
            "OOH                               16893.084735\n",
            "OOH_exposure                      16893.084735\n",
            "Print                                67.796610\n",
            "Print_exposure                       67.796610\n",
            "Radio                             25480.499483\n",
            "Radio_exposure                    25480.499483\n",
            "SearchBing                          803.912315\n",
            "SearchBing_exposure                 803.912315\n",
            "DemandGen                            38.081027\n",
            "DemandGen_exposure                   38.081027\n",
            "Discovery                             3.302197\n",
            "Discovery_exposure                    3.302197\n",
            "Pmax                                528.794209\n",
            "Pmax_exposure                       528.794209\n",
            "GoogleDisplay                       531.073640\n",
            "GoogleDisplay_exposure              531.073640\n",
            "SearchGoogle                       5018.462065\n",
            "SearchGoogle_exposure              5018.462065\n",
            "Social                             3942.978682\n",
            "Social_exposure                    3942.978682\n",
            "Télé                              34896.566959\n",
            "Télé_exposure                     34896.566959\n",
            "dtype: float64\n",
            "Variances:\n",
            " Unnamed: 0                        2.625500e+03\n",
            "dependantVar                      6.335241e+05\n",
            "Cinema                            1.499613e+07\n",
            "Cinema_exposure                   1.499613e+07\n",
            "Sponsoring_Activation             2.419298e+07\n",
            "Sponsoring_Activation_exposure    2.419298e+07\n",
            "Content                           1.705745e+06\n",
            "Content_exposure                  1.705745e+06\n",
            "Display                           2.117014e+07\n",
            "Display_exposure                  2.117014e+07\n",
            "OLA                               8.370987e+06\n",
            "OLA_exposure                      8.370987e+06\n",
            "OLV                               1.733979e+08\n",
            "OLV_exposure                      1.733979e+08\n",
            "OOH                               2.929012e+09\n",
            "OOH_exposure                      2.929012e+09\n",
            "Print                             8.135593e+05\n",
            "Print_exposure                    8.135593e+05\n",
            "Radio                             3.723166e+09\n",
            "Radio_exposure                    3.723166e+09\n",
            "SearchBing                        7.926406e+05\n",
            "SearchBing_exposure               7.926406e+05\n",
            "DemandGen                         1.487262e+04\n",
            "DemandGen_exposure                1.487262e+04\n",
            "Discovery                         9.221953e+02\n",
            "Discovery_exposure                9.221953e+02\n",
            "Pmax                              8.579728e+05\n",
            "Pmax_exposure                     8.579728e+05\n",
            "GoogleDisplay                     4.964101e+05\n",
            "GoogleDisplay_exposure            4.964101e+05\n",
            "SearchGoogle                      1.077254e+07\n",
            "SearchGoogle_exposure             1.077254e+07\n",
            "Social                            1.911594e+07\n",
            "Social_exposure                   1.911594e+07\n",
            "Télé                              2.715615e+09\n",
            "Télé_exposure                     2.715615e+09\n",
            "dtype: float64\n",
            "Correlations:\n",
            "                                 Unnamed: 0  dependantVar    Cinema  \\\n",
            "Unnamed: 0                        1.000000      0.460591  0.137285   \n",
            "dependantVar                      0.460591      1.000000  0.023412   \n",
            "Cinema                            0.137285      0.023412  1.000000   \n",
            "Cinema_exposure                   0.137285      0.023412  1.000000   \n",
            "Sponsoring_Activation            -0.063037     -0.085178  0.118320   \n",
            "Sponsoring_Activation_exposure   -0.063037     -0.085178  0.118320   \n",
            "Content                           0.288739      0.516655 -0.061176   \n",
            "Content_exposure                  0.288739      0.516655 -0.061176   \n",
            "Display                           0.092986      0.148962  0.342297   \n",
            "Display_exposure                  0.092986      0.148962  0.342297   \n",
            "OLA                              -0.026033     -0.002987 -0.090613   \n",
            "OLA_exposure                     -0.026033     -0.002987 -0.090613   \n",
            "OLV                               0.209725      0.222209  0.472261   \n",
            "OLV_exposure                      0.209725      0.222209  0.472261   \n",
            "OOH                               0.144142      0.076666  0.270256   \n",
            "OOH_exposure                      0.144142      0.076666  0.270256   \n",
            "Print                            -0.001475     -0.020106 -0.017976   \n",
            "Print_exposure                   -0.001475     -0.020106 -0.017976   \n",
            "Radio                            -0.121549      0.034390 -0.070506   \n",
            "Radio_exposure                   -0.121549      0.034390 -0.070506   \n",
            "SearchBing                       -0.686434     -0.193518 -0.090781   \n",
            "SearchBing_exposure              -0.686434     -0.193518 -0.090781   \n",
            "DemandGen                         0.373657      0.672139 -0.074679   \n",
            "DemandGen_exposure                0.373657      0.672139 -0.074679   \n",
            "Discovery                         0.110244      0.185388 -0.026006   \n",
            "Discovery_exposure                0.110244      0.185388 -0.026006   \n",
            "Pmax                              0.375616      0.447346 -0.027372   \n",
            "Pmax_exposure                     0.375616      0.447346 -0.027372   \n",
            "GoogleDisplay                     0.016705     -0.116060 -0.095615   \n",
            "GoogleDisplay_exposure            0.016705     -0.116060 -0.095615   \n",
            "SearchGoogle                      0.222098      0.321093  0.082940   \n",
            "SearchGoogle_exposure             0.222098      0.321093  0.082940   \n",
            "Social                            0.079654      0.203702  0.012498   \n",
            "Social_exposure                   0.079654      0.203702  0.012498   \n",
            "Télé                             -0.184102     -0.006264  0.224224   \n",
            "Télé_exposure                    -0.184102     -0.006264  0.224224   \n",
            "\n",
            "                                Cinema_exposure  Sponsoring_Activation  \\\n",
            "Unnamed: 0                             0.137285              -0.063037   \n",
            "dependantVar                           0.023412              -0.085178   \n",
            "Cinema                                 1.000000               0.118320   \n",
            "Cinema_exposure                        1.000000               0.118320   \n",
            "Sponsoring_Activation                  0.118320               1.000000   \n",
            "Sponsoring_Activation_exposure         0.118320               1.000000   \n",
            "Content                               -0.061176              -0.124104   \n",
            "Content_exposure                      -0.061176              -0.124104   \n",
            "Display                                0.342297               0.069214   \n",
            "Display_exposure                       0.342297               0.069214   \n",
            "OLA                                   -0.090613              -0.101877   \n",
            "OLA_exposure                          -0.090613              -0.101877   \n",
            "OLV                                    0.472261              -0.167597   \n",
            "OLV_exposure                           0.472261              -0.167597   \n",
            "OOH                                    0.270256              -0.036424   \n",
            "OOH_exposure                           0.270256              -0.036424   \n",
            "Print                                 -0.017976              -0.036467   \n",
            "Print_exposure                        -0.017976              -0.036467   \n",
            "Radio                                 -0.070506               0.072485   \n",
            "Radio_exposure                        -0.070506               0.072485   \n",
            "SearchBing                            -0.090781               0.113013   \n",
            "SearchBing_exposure                   -0.090781               0.113013   \n",
            "DemandGen                             -0.074679              -0.151498   \n",
            "DemandGen_exposure                    -0.074679              -0.151498   \n",
            "Discovery                             -0.026006              -0.052757   \n",
            "Discovery_exposure                    -0.026006              -0.052757   \n",
            "Pmax                                  -0.027372              -0.160962   \n",
            "Pmax_exposure                         -0.027372              -0.160962   \n",
            "GoogleDisplay                         -0.095615               0.027975   \n",
            "GoogleDisplay_exposure                -0.095615               0.027975   \n",
            "SearchGoogle                           0.082940               0.061657   \n",
            "SearchGoogle_exposure                  0.082940               0.061657   \n",
            "Social                                 0.012498              -0.055589   \n",
            "Social_exposure                        0.012498              -0.055589   \n",
            "Télé                                   0.224224              -0.102091   \n",
            "Télé_exposure                          0.224224              -0.102091   \n",
            "\n",
            "                                Sponsoring_Activation_exposure   Content  \\\n",
            "Unnamed: 0                                           -0.063037  0.288739   \n",
            "dependantVar                                         -0.085178  0.516655   \n",
            "Cinema                                                0.118320 -0.061176   \n",
            "Cinema_exposure                                       0.118320 -0.061176   \n",
            "Sponsoring_Activation                                 1.000000 -0.124104   \n",
            "Sponsoring_Activation_exposure                        1.000000 -0.124104   \n",
            "Content                                              -0.124104  1.000000   \n",
            "Content_exposure                                     -0.124104  1.000000   \n",
            "Display                                               0.069214  0.195305   \n",
            "Display_exposure                                      0.069214  0.195305   \n",
            "OLA                                                  -0.101877  0.014138   \n",
            "OLA_exposure                                         -0.101877  0.014138   \n",
            "OLV                                                  -0.167597  0.051377   \n",
            "OLV_exposure                                         -0.167597  0.051377   \n",
            "OOH                                                  -0.036424  0.193745   \n",
            "OOH_exposure                                         -0.036424  0.193745   \n",
            "Print                                                -0.036467 -0.019336   \n",
            "Print_exposure                                       -0.036467 -0.019336   \n",
            "Radio                                                 0.072485  0.095037   \n",
            "Radio_exposure                                        0.072485  0.095037   \n",
            "SearchBing                                            0.113013 -0.022471   \n",
            "SearchBing_exposure                                   0.113013 -0.022471   \n",
            "DemandGen                                            -0.151498  0.620900   \n",
            "DemandGen_exposure                                   -0.151498  0.620900   \n",
            "Discovery                                            -0.052757  0.305701   \n",
            "Discovery_exposure                                   -0.052757  0.305701   \n",
            "Pmax                                                 -0.160962  0.497436   \n",
            "Pmax_exposure                                        -0.160962  0.497436   \n",
            "GoogleDisplay                                         0.027975 -0.054611   \n",
            "GoogleDisplay_exposure                                0.027975 -0.054611   \n",
            "SearchGoogle                                          0.061657  0.377049   \n",
            "SearchGoogle_exposure                                 0.061657  0.377049   \n",
            "Social                                               -0.055589  0.324466   \n",
            "Social_exposure                                      -0.055589  0.324466   \n",
            "Télé                                                 -0.102091  0.255500   \n",
            "Télé_exposure                                        -0.102091  0.255500   \n",
            "\n",
            "                                Content_exposure   Display  Display_exposure  \\\n",
            "Unnamed: 0                              0.288739  0.092986          0.092986   \n",
            "dependantVar                            0.516655  0.148962          0.148962   \n",
            "Cinema                                 -0.061176  0.342297          0.342297   \n",
            "Cinema_exposure                        -0.061176  0.342297          0.342297   \n",
            "Sponsoring_Activation                  -0.124104  0.069214          0.069214   \n",
            "Sponsoring_Activation_exposure         -0.124104  0.069214          0.069214   \n",
            "Content                                 1.000000  0.195305          0.195305   \n",
            "Content_exposure                        1.000000  0.195305          0.195305   \n",
            "Display                                 0.195305  1.000000          1.000000   \n",
            "Display_exposure                        0.195305  1.000000          1.000000   \n",
            "OLA                                     0.014138  0.237645          0.237645   \n",
            "OLA_exposure                            0.014138  0.237645          0.237645   \n",
            "OLV                                     0.051377  0.593208          0.593208   \n",
            "OLV_exposure                            0.051377  0.593208          0.593208   \n",
            "OOH                                     0.193745  0.292696          0.292696   \n",
            "OOH_exposure                            0.193745  0.292696          0.292696   \n",
            "Print                                  -0.019336 -0.018775         -0.018775   \n",
            "Print_exposure                         -0.019336 -0.018775         -0.018775   \n",
            "Radio                                   0.095037  0.228440          0.228440   \n",
            "Radio_exposure                          0.095037  0.228440          0.228440   \n",
            "SearchBing                             -0.022471  0.096687          0.096687   \n",
            "SearchBing_exposure                    -0.022471  0.096687          0.096687   \n",
            "DemandGen                               0.620900  0.208801          0.208801   \n",
            "DemandGen_exposure                      0.620900  0.208801          0.208801   \n",
            "Discovery                               0.305701  0.067994          0.067994   \n",
            "Discovery_exposure                      0.305701  0.067994          0.067994   \n",
            "Pmax                                    0.497436  0.060484          0.060484   \n",
            "Pmax_exposure                           0.497436  0.060484          0.060484   \n",
            "GoogleDisplay                          -0.054611 -0.057725         -0.057725   \n",
            "GoogleDisplay_exposure                 -0.054611 -0.057725         -0.057725   \n",
            "SearchGoogle                            0.377049  0.126239          0.126239   \n",
            "SearchGoogle_exposure                   0.377049  0.126239          0.126239   \n",
            "Social                                  0.324466  0.166255          0.166255   \n",
            "Social_exposure                         0.324466  0.166255          0.166255   \n",
            "Télé                                    0.255500  0.410239          0.410239   \n",
            "Télé_exposure                           0.255500  0.410239          0.410239   \n",
            "\n",
            "                                ...      Pmax  Pmax_exposure  GoogleDisplay  \\\n",
            "Unnamed: 0                      ...  0.375616       0.375616       0.016705   \n",
            "dependantVar                    ...  0.447346       0.447346      -0.116060   \n",
            "Cinema                          ... -0.027372      -0.027372      -0.095615   \n",
            "Cinema_exposure                 ... -0.027372      -0.027372      -0.095615   \n",
            "Sponsoring_Activation           ... -0.160962      -0.160962       0.027975   \n",
            "Sponsoring_Activation_exposure  ... -0.160962      -0.160962       0.027975   \n",
            "Content                         ...  0.497436       0.497436      -0.054611   \n",
            "Content_exposure                ...  0.497436       0.497436      -0.054611   \n",
            "Display                         ...  0.060484       0.060484      -0.057725   \n",
            "Display_exposure                ...  0.060484       0.060484      -0.057725   \n",
            "OLA                             ...  0.064462       0.064462      -0.058897   \n",
            "OLA_exposure                    ...  0.064462       0.064462      -0.058897   \n",
            "OLV                             ...  0.052989       0.052989      -0.051704   \n",
            "OLV_exposure                    ...  0.052989       0.052989      -0.051704   \n",
            "OOH                             ...  0.023867       0.023867       0.013815   \n",
            "OOH_exposure                    ...  0.023867       0.023867       0.013815   \n",
            "Print                           ... -0.003141      -0.003141      -0.042441   \n",
            "Print_exposure                  ... -0.003141      -0.003141      -0.042441   \n",
            "Radio                           ...  0.007534       0.007534       0.006650   \n",
            "Radio_exposure                  ...  0.007534       0.007534       0.006650   \n",
            "SearchBing                      ... -0.201709      -0.201709      -0.139548   \n",
            "SearchBing_exposure             ... -0.201709      -0.201709      -0.139548   \n",
            "DemandGen                       ...  0.639316       0.639316      -0.140635   \n",
            "DemandGen_exposure              ...  0.639316       0.639316      -0.140635   \n",
            "Discovery                       ...  0.239885       0.239885      -0.017120   \n",
            "Discovery_exposure              ...  0.239885       0.239885      -0.017120   \n",
            "Pmax                            ...  1.000000       1.000000      -0.116736   \n",
            "Pmax_exposure                   ...  1.000000       1.000000      -0.116736   \n",
            "GoogleDisplay                   ... -0.116736      -0.116736       1.000000   \n",
            "GoogleDisplay_exposure          ... -0.116736      -0.116736       1.000000   \n",
            "SearchGoogle                    ...  0.529053       0.529053       0.355965   \n",
            "SearchGoogle_exposure           ...  0.529053       0.529053       0.355965   \n",
            "Social                          ...  0.303202       0.303202       0.256371   \n",
            "Social_exposure                 ...  0.303202       0.303202       0.256371   \n",
            "Télé                            ... -0.016770      -0.016770      -0.074411   \n",
            "Télé_exposure                   ... -0.016770      -0.016770      -0.074411   \n",
            "\n",
            "                                GoogleDisplay_exposure  SearchGoogle  \\\n",
            "Unnamed: 0                                    0.016705      0.222098   \n",
            "dependantVar                                 -0.116060      0.321093   \n",
            "Cinema                                       -0.095615      0.082940   \n",
            "Cinema_exposure                              -0.095615      0.082940   \n",
            "Sponsoring_Activation                         0.027975      0.061657   \n",
            "Sponsoring_Activation_exposure                0.027975      0.061657   \n",
            "Content                                      -0.054611      0.377049   \n",
            "Content_exposure                             -0.054611      0.377049   \n",
            "Display                                      -0.057725      0.126239   \n",
            "Display_exposure                             -0.057725      0.126239   \n",
            "OLA                                          -0.058897      0.159654   \n",
            "OLA_exposure                                 -0.058897      0.159654   \n",
            "OLV                                          -0.051704      0.179440   \n",
            "OLV_exposure                                 -0.051704      0.179440   \n",
            "OOH                                           0.013815      0.223448   \n",
            "OOH_exposure                                  0.013815      0.223448   \n",
            "Print                                        -0.042441     -0.015586   \n",
            "Print_exposure                               -0.042441     -0.015586   \n",
            "Radio                                         0.006650      0.014639   \n",
            "Radio_exposure                                0.006650      0.014639   \n",
            "SearchBing                                   -0.139548     -0.318022   \n",
            "SearchBing_exposure                          -0.139548     -0.318022   \n",
            "DemandGen                                    -0.140635      0.489503   \n",
            "DemandGen_exposure                           -0.140635      0.489503   \n",
            "Discovery                                    -0.017120      0.235650   \n",
            "Discovery_exposure                           -0.017120      0.235650   \n",
            "Pmax                                         -0.116736      0.529053   \n",
            "Pmax_exposure                                -0.116736      0.529053   \n",
            "GoogleDisplay                                 1.000000      0.355965   \n",
            "GoogleDisplay_exposure                        1.000000      0.355965   \n",
            "SearchGoogle                                  0.355965      1.000000   \n",
            "SearchGoogle_exposure                         0.355965      1.000000   \n",
            "Social                                        0.256371      0.477149   \n",
            "Social_exposure                               0.256371      0.477149   \n",
            "Télé                                         -0.074411      0.094243   \n",
            "Télé_exposure                                -0.074411      0.094243   \n",
            "\n",
            "                                SearchGoogle_exposure    Social  \\\n",
            "Unnamed: 0                                   0.222098  0.079654   \n",
            "dependantVar                                 0.321093  0.203702   \n",
            "Cinema                                       0.082940  0.012498   \n",
            "Cinema_exposure                              0.082940  0.012498   \n",
            "Sponsoring_Activation                        0.061657 -0.055589   \n",
            "Sponsoring_Activation_exposure               0.061657 -0.055589   \n",
            "Content                                      0.377049  0.324466   \n",
            "Content_exposure                             0.377049  0.324466   \n",
            "Display                                      0.126239  0.166255   \n",
            "Display_exposure                             0.126239  0.166255   \n",
            "OLA                                          0.159654  0.249445   \n",
            "OLA_exposure                                 0.159654  0.249445   \n",
            "OLV                                          0.179440  0.201706   \n",
            "OLV_exposure                                 0.179440  0.201706   \n",
            "OOH                                          0.223448  0.111453   \n",
            "OOH_exposure                                 0.223448  0.111453   \n",
            "Print                                       -0.015586 -0.031505   \n",
            "Print_exposure                              -0.015586 -0.031505   \n",
            "Radio                                        0.014639  0.059342   \n",
            "Radio_exposure                               0.014639  0.059342   \n",
            "SearchBing                                  -0.318022 -0.128241   \n",
            "SearchBing_exposure                         -0.318022 -0.128241   \n",
            "DemandGen                                    0.489503  0.410377   \n",
            "DemandGen_exposure                           0.489503  0.410377   \n",
            "Discovery                                    0.235650 -0.043005   \n",
            "Discovery_exposure                           0.235650 -0.043005   \n",
            "Pmax                                         0.529053  0.303202   \n",
            "Pmax_exposure                                0.529053  0.303202   \n",
            "GoogleDisplay                                0.355965  0.256371   \n",
            "GoogleDisplay_exposure                       0.355965  0.256371   \n",
            "SearchGoogle                                 1.000000  0.477149   \n",
            "SearchGoogle_exposure                        1.000000  0.477149   \n",
            "Social                                       0.477149  1.000000   \n",
            "Social_exposure                              0.477149  1.000000   \n",
            "Télé                                         0.094243  0.329476   \n",
            "Télé_exposure                                0.094243  0.329476   \n",
            "\n",
            "                                Social_exposure      Télé  Télé_exposure  \n",
            "Unnamed: 0                             0.079654 -0.184102      -0.184102  \n",
            "dependantVar                           0.203702 -0.006264      -0.006264  \n",
            "Cinema                                 0.012498  0.224224       0.224224  \n",
            "Cinema_exposure                        0.012498  0.224224       0.224224  \n",
            "Sponsoring_Activation                 -0.055589 -0.102091      -0.102091  \n",
            "Sponsoring_Activation_exposure        -0.055589 -0.102091      -0.102091  \n",
            "Content                                0.324466  0.255500       0.255500  \n",
            "Content_exposure                       0.324466  0.255500       0.255500  \n",
            "Display                                0.166255  0.410239       0.410239  \n",
            "Display_exposure                       0.166255  0.410239       0.410239  \n",
            "OLA                                    0.249445  0.031526       0.031526  \n",
            "OLA_exposure                           0.249445  0.031526       0.031526  \n",
            "OLV                                    0.201706  0.271257       0.271257  \n",
            "OLV_exposure                           0.201706  0.271257       0.271257  \n",
            "OOH                                    0.111453  0.249721       0.249721  \n",
            "OOH_exposure                           0.111453  0.249721       0.249721  \n",
            "Print                                 -0.031505 -0.050620      -0.050620  \n",
            "Print_exposure                        -0.031505 -0.050620      -0.050620  \n",
            "Radio                                  0.059342  0.240777       0.240777  \n",
            "Radio_exposure                         0.059342  0.240777       0.240777  \n",
            "SearchBing                            -0.128241  0.113574       0.113574  \n",
            "SearchBing_exposure                   -0.128241  0.113574       0.113574  \n",
            "DemandGen                              0.410377 -0.033878      -0.033878  \n",
            "DemandGen_exposure                     0.410377 -0.033878      -0.033878  \n",
            "Discovery                             -0.043005 -0.056445      -0.056445  \n",
            "Discovery_exposure                    -0.043005 -0.056445      -0.056445  \n",
            "Pmax                                   0.303202 -0.016770      -0.016770  \n",
            "Pmax_exposure                          0.303202 -0.016770      -0.016770  \n",
            "GoogleDisplay                          0.256371 -0.074411      -0.074411  \n",
            "GoogleDisplay_exposure                 0.256371 -0.074411      -0.074411  \n",
            "SearchGoogle                           0.477149  0.094243       0.094243  \n",
            "SearchGoogle_exposure                  0.477149  0.094243       0.094243  \n",
            "Social                                 1.000000  0.329476       0.329476  \n",
            "Social_exposure                        1.000000  0.329476       0.329476  \n",
            "Télé                                   0.329476  1.000000       1.000000  \n",
            "Télé_exposure                          0.329476  1.000000       1.000000  \n",
            "\n",
            "[36 rows x 36 columns]\n"
          ]
        }
      ],
      "source": [
        "import pandas as pd\n",
        "# Afficher seulement les colonnes numériques\n",
        "df = pd.read_csv(data_path)  # remplace par ton dataframe réels\n",
        "numeric_df = df.select_dtypes(include='number')\n",
        "\n",
        "print(\"Means:\\n\", numeric_df.mean())\n",
        "print(\"Variances:\\n\", numeric_df.var())\n",
        "print(\"Correlations:\\n\", numeric_df.corr())"
      ]
    },
    {
      "cell_type": "markdown",
      "metadata": {
        "id": "z18Mo-22x0lY"
      },
      "source": [
        "Load the [simulated dataset in CSV format](https://github.com/google/meridian/blob/main/meridian/data/simulated_data/csv/geo_all_channels.csv) as follows."
      ]
    },
    {
      "cell_type": "markdown",
      "metadata": {
        "id": "tZd-ik8NbjK6"
      },
      "source": [
        "1\\. Map the column names to their corresponding variable types. For example, the column names 'GQV' and 'Competitor_Sales' are mapped to `controls`. The required variable types are `time`, `controls`, `population`, `kpi`, `revenue_per_kpi`, `media` and `spend`. If your data includes organic media or non-media treatments, you can add them using `organic_media` and `non_media_treatments` arguments. For the definition of each variable, see\n",
        "[Collect and organize your data](https://developers.google.com/meridian/docs/user-guide/collect-data)."
      ]
    },
    {
      "cell_type": "code",
      "execution_count": 4,
      "metadata": {
        "id": "7sV1ChiEYuyD"
      },
      "outputs": [],
      "source": [
        "coord_to_columns = load.CoordToColumns(\n",
        "    time='date',\n",
        "    kpi='dependantVar',\n",
        "    controls=[],  # obligatoire, même vide\n",
        "    media=[\n",
        "        'Cinema_exposure', 'Sponsoring_Activation_exposure', 'Content_exposure',\n",
        "        'Display_exposure', 'OLA_exposure', 'OLV_exposure', 'OOH_exposure',\n",
        "        'Print_exposure', 'Radio_exposure', 'SearchBing_exposure',\n",
        "        'DemandGen_exposure', 'Discovery_exposure', 'Pmax_exposure',\n",
        "        'GoogleDisplay_exposure', 'SearchGoogle_exposure',\n",
        "        'Social_exposure', 'Télé_exposure',\n",
        "    ],\n",
        "    media_spend=[\n",
        "        'Cinema', 'Sponsoring_Activation', 'Content', 'Display', 'OLA',\n",
        "        'OLV', 'OOH', 'Print', 'Radio', 'SearchBing', 'DemandGen',\n",
        "        'Discovery', 'Pmax', 'GoogleDisplay', 'SearchGoogle', 'Social', 'Télé',\n",
        "    ],\n",
        ")\n"
      ]
    },
    {
      "cell_type": "markdown",
      "metadata": {
        "id": "8JBDZzl80BrY"
      },
      "source": [
        "2\\. Map the media variables and the media spends to the designated channel names intended for display in the two-page HTML output. In the following example,  'Channel0_impression' and 'Channel0_spend' are connected to the same channel, 'Channel0'."
      ]
    },
    {
      "cell_type": "code",
      "execution_count": 5,
      "metadata": {
        "id": "4qdTSk4a0znn"
      },
      "outputs": [],
      "source": [
        "correct_media_to_channel = {\n",
        "    'Cinema_exposure': 'Cinema',\n",
        "    'Sponsoring_Activation_exposure': 'Sponsoring_Activation',\n",
        "    'Content_exposure': 'Content',\n",
        "    'Display_exposure': 'Display',\n",
        "    'OLA_exposure': 'OLA',\n",
        "    'OLV_exposure': 'OLV',\n",
        "    'OOH_exposure': 'OOH',\n",
        "    'Print_exposure': 'Print',\n",
        "    'Radio_exposure': 'Radio',\n",
        "    'SearchBing_exposure': 'SearchBing',\n",
        "    'DemandGen_exposure': 'DemandGen',\n",
        "    'Discovery_exposure': 'Discovery',\n",
        "    'Pmax_exposure': 'Pmax',\n",
        "    'GoogleDisplay_exposure': 'GoogleDisplay',\n",
        "    'SearchGoogle_exposure': 'SearchGoogle',\n",
        "    'Social_exposure': 'Social',\n",
        "    'Télé_exposure': 'Télé',\n",
        "}\n",
        "\n",
        "correct_media_spend_to_channel = {\n",
        "    'Cinema': 'Cinema',\n",
        "    'Sponsoring_Activation': 'Sponsoring_Activation',\n",
        "    'Content': 'Content',\n",
        "    'Display': 'Display',\n",
        "    'OLA': 'OLA',\n",
        "    'OLV': 'OLV',\n",
        "    'OOH': 'OOH',\n",
        "    'Print': 'Print',\n",
        "    'Radio': 'Radio',\n",
        "    'SearchBing': 'SearchBing',\n",
        "    'DemandGen': 'DemandGen',\n",
        "    'Discovery': 'Discovery',\n",
        "    'Pmax': 'Pmax',\n",
        "    'GoogleDisplay': 'GoogleDisplay',\n",
        "    'SearchGoogle': 'SearchGoogle',\n",
        "    'Social': 'Social',\n",
        "    'Télé': 'Télé',\n",
        "}\n"
      ]
    },
    {
      "cell_type": "markdown",
      "metadata": {
        "id": "LNr75vQL1Zru"
      },
      "source": [
        "3\\. Load the CSV data using `CsvDataLoader`. Note that `csv_path` is the path to the data file location."
      ]
    },
    {
      "cell_type": "code",
      "execution_count": 6,
      "metadata": {
        "id": "udaLGvwl1U8B"
      },
      "outputs": [
        {
          "name": "stderr",
          "output_type": "stream",
          "text": [
            "/Users/yacinzriwil/Desktop/projet_meridian/projet_meridian_databricks/.venv/lib/python3.12/site-packages/meridian/data/load.py:1023: FutureWarning: Downcasting behavior in `replace` is deprecated and will be removed in a future version. To retain the old behavior, explicitly call `result.infer_objects(copy=False)`. To opt-in to the future behavior, set `pd.set_option('future.no_silent_downcasting', True)`\n",
            "  self.df[geo_column_name] = self.df[geo_column_name].replace(\n",
            "/Users/yacinzriwil/Desktop/projet_meridian/projet_meridian_databricks/.venv/lib/python3.12/site-packages/meridian/data/load.py:201: FutureWarning: The return type of `Dataset.dims` will be changed to return a set of dimension names in future, in order to be more consistent with `DataArray.dims`. To access a mapping from dimension names to lengths, please use `Dataset.sizes`.\n",
            "  if (constants.GEO) not in self.dataset.dims.keys():\n",
            "/Users/yacinzriwil/Desktop/projet_meridian/projet_meridian_databricks/.venv/lib/python3.12/site-packages/meridian/data/load.py:206: UserWarning: The `population` argument is ignored in a nationally aggregated model. It will be reset to [1]\n",
            "  warnings.warn(\n",
            "/Users/yacinzriwil/Desktop/projet_meridian/projet_meridian_databricks/.venv/lib/python3.12/site-packages/meridian/data/load.py:231: FutureWarning: The return type of `Dataset.dims` will be changed to return a set of dimension names in future, in order to be more consistent with `DataArray.dims`. To access a mapping from dimension names to lengths, please use `Dataset.sizes`.\n",
            "  if constants.MEDIA_TIME not in self.dataset.dims.keys():\n",
            "/Users/yacinzriwil/Desktop/projet_meridian/projet_meridian_databricks/.venv/lib/python3.12/site-packages/meridian/data/input_data.py:468: UserWarning: Consider setting custom priors, as kpi_type was specified as `non_revenue` with no `revenue_per_kpi` being set. Otherwise, the total media contribution prior will be used with `p_mean=0.4` and `p_sd=0.2`. Further documentation available at https://developers.google.com/meridian/docs/advanced-modeling/unknown-revenue-kpi-custom#set-total-paid-media-contribution-prior\n",
            "  warnings.warn(\n"
          ]
        }
      ],
      "source": [
        "loader = load.CsvDataLoader(\n",
        "    csv_path=data_path,\n",
        "    kpi_type='non_revenue',\n",
        "    coord_to_columns=coord_to_columns,\n",
        "    media_to_channel=correct_media_to_channel,\n",
        "    media_spend_to_channel=correct_media_spend_to_channel,\n",
        ")\n",
        "data = loader.load()"
      ]
    },
    {
      "cell_type": "markdown",
      "metadata": {
        "id": "FO6pDd6f2V1L"
      },
      "source": [
        "<a name=\"configure-model\"></a>\n",
        "## Step 2: Configure the model"
      ]
    },
    {
      "cell_type": "markdown",
      "metadata": {
        "id": "a_mQI7HzxxK4"
      },
      "source": [
        "Meridian uses Bayesian framework and Markov Chain Monte Carlo (MCMC) algorithms to sample from the posterior distribution.\n",
        "\n",
        "1\\. Inititalize the `Meridian` class by passing the loaded data and the customized model specification. One advantage of Meridian lies in its capacity to calibrate the model directly through ROI priors, as described in [Media Mix Model Calibration With Bayesian Priors](https://research.google/pubs/media-mix-model-calibration-with-bayesian-priors/). In this particular example, the ROI priors for all media channels are identical, with each being represented as Lognormal(0.2, 0.9)."
      ]
    },
    {
      "cell_type": "code",
      "execution_count": 7,
      "metadata": {
        "id": "8XNDd7HX1qTn"
      },
      "outputs": [
        {
          "name": "stderr",
          "output_type": "stream",
          "text": [
            "/Users/yacinzriwil/Desktop/projet_meridian/projet_meridian_databricks/.venv/lib/python3.12/site-packages/meridian/model/model.py:66: UserWarning: In a nationally aggregated model, the `media_effects_dist` will be reset to `normal`.\n",
            "  warnings.warn(\n",
            "WARNING: All log messages before absl::InitializeLog() is called are written to STDERR\n",
            "I0000 00:00:1748601746.988981   14378 service.cc:148] XLA service 0x11dc12a30 initialized for platform Host (this does not guarantee that XLA will be used). Devices:\n",
            "I0000 00:00:1748601746.989194   14378 service.cc:156]   StreamExecutor device (0): Host, Default Version\n",
            "I0000 00:00:1748601747.016505   14378 device_compiler.h:188] Compiled cluster using XLA!  This line is logged at most once for the lifetime of the process.\n"
          ]
        }
      ],
      "source": [
        "roi_mu = -1.5  # ROI central plus bas (~0.22)\n",
        "roi_sigma = 1.5  # Très tolérant, large éventail\n",
        "prior = prior_distribution.PriorDistribution(\n",
        "    roi_m=tfp.distributions.LogNormal(roi_mu, roi_sigma, name=constants.ROI_M)\n",
        ")\n",
        "model_spec = spec.ModelSpec(prior=prior)\n",
        "\n",
        "mmm = model.Meridian(input_data=data, model_spec=model_spec)"
      ]
    },
    {
      "cell_type": "markdown",
      "metadata": {
        "id": "kPQBPlX8cmEv"
      },
      "source": [
        "2\\. Use the `sample_prior()` and `sample_posterior()` methods to obtain samples from the prior and posterior distributions of model parameters. If you are using the T4 GPU runtime this step may take about 10 minutes for the provided data set."
      ]
    },
    {
      "cell_type": "code",
      "execution_count": 8,
      "metadata": {
        "id": "KVB3avRdcRNz"
      },
      "outputs": [
        {
          "name": "stderr",
          "output_type": "stream",
          "text": [
            "/Users/yacinzriwil/Desktop/projet_meridian/projet_meridian_databricks/.venv/lib/python3.12/site-packages/meridian/model/prior_distribution.py:912: UserWarning: Hierarchical distribution parameters must be deterministically zero for national models. tau_g_excl_baseline has been automatically set to Deterministic(0).\n",
            "  warnings.warn(\n",
            "/Users/yacinzriwil/Desktop/projet_meridian/projet_meridian_databricks/.venv/lib/python3.12/site-packages/meridian/model/prior_distribution.py:912: UserWarning: Hierarchical distribution parameters must be deterministically zero for national models. eta_m has been automatically set to Deterministic(0).\n",
            "  warnings.warn(\n",
            "/Users/yacinzriwil/Desktop/projet_meridian/projet_meridian_databricks/.venv/lib/python3.12/site-packages/meridian/model/prior_distribution.py:912: UserWarning: Hierarchical distribution parameters must be deterministically zero for national models. eta_rf has been automatically set to Deterministic(0).\n",
            "  warnings.warn(\n",
            "/Users/yacinzriwil/Desktop/projet_meridian/projet_meridian_databricks/.venv/lib/python3.12/site-packages/meridian/model/prior_distribution.py:912: UserWarning: Hierarchical distribution parameters must be deterministically zero for national models. eta_om has been automatically set to Deterministic(0).\n",
            "  warnings.warn(\n",
            "/Users/yacinzriwil/Desktop/projet_meridian/projet_meridian_databricks/.venv/lib/python3.12/site-packages/meridian/model/prior_distribution.py:912: UserWarning: Hierarchical distribution parameters must be deterministically zero for national models. eta_orf has been automatically set to Deterministic(0).\n",
            "  warnings.warn(\n",
            "/Users/yacinzriwil/Desktop/projet_meridian/projet_meridian_databricks/.venv/lib/python3.12/site-packages/meridian/model/prior_distribution.py:912: UserWarning: Hierarchical distribution parameters must be deterministically zero for national models. xi_c has been automatically set to Deterministic(0).\n",
            "  warnings.warn(\n",
            "/Users/yacinzriwil/Desktop/projet_meridian/projet_meridian_databricks/.venv/lib/python3.12/site-packages/meridian/model/prior_distribution.py:912: UserWarning: Hierarchical distribution parameters must be deterministically zero for national models. xi_n has been automatically set to Deterministic(0).\n",
            "  warnings.warn(\n",
            "2025-05-30 12:42:52.131498: I tensorflow/compiler/mlir/tensorflow/utils/dump_mlir_util.cc:268] disabling MLIR crash reproducer, set env var `MLIR_CRASH_REPRODUCER_DIRECTORY` to enable.\n",
            "W0000 00:00:1748601772.955490   14378 assert_op.cc:38] Ignoring Assert operator mcmc_retry_init/assert_equal_1/Assert/AssertGuard/Assert\n"
          ]
        },
        {
          "name": "stdout",
          "output_type": "stream",
          "text": [
            "CPU times: user 2min 16s, sys: 6.96 s, total: 2min 23s\n",
            "Wall time: 2min 11s\n"
          ]
        }
      ],
      "source": [
        "%%time\n",
        "mmm.sample_prior(500)\n",
        "mmm.sample_posterior(n_chains=10, n_adapt=2000, n_burnin=500, n_keep=1000, seed=1)"
      ]
    },
    {
      "cell_type": "markdown",
      "metadata": {
        "id": "5WUM2V26cspo"
      },
      "source": [
        "For more information about configuring the parameters and using a customized model specification, such as setting different ROI priors for each media channel, see [Configure the model](https://developers.google.com/meridian/docs/user-guide/configure-model)."
      ]
    },
    {
      "cell_type": "markdown",
      "metadata": {
        "id": "t9oECJwUdJTm"
      },
      "source": [
        "<a name=\"model-diagnostics\"></a>\n",
        "## Step 3: Run model diagnostics"
      ]
    },
    {
      "cell_type": "markdown",
      "metadata": {
        "id": "kSzK6JeMxrV6"
      },
      "source": [
        "After the model is built, you must assess convergence, debug the model if needed, and then assess the model fit.\n",
        "\n",
        "1\\. Assess convergence. Run the following code to generate r-hat statistics. R-hat close to 1.0 indicate convergence. R-hat < 1.2 indicates approximate convergence and is a reasonable threshold for many problems."
      ]
    },
    {
      "cell_type": "code",
      "execution_count": 9,
      "metadata": {
        "id": "rFuc7B86yLvM"
      },
      "outputs": [
        {
          "ename": "MCMCSamplingError",
          "evalue": "MCMC sampling failed with a maximum R-hat value of 1359308390400.0.",
          "output_type": "error",
          "traceback": [
            "\u001b[31m---------------------------------------------------------------------------\u001b[39m",
            "\u001b[31mMCMCSamplingError\u001b[39m                         Traceback (most recent call last)",
            "\u001b[36mCell\u001b[39m\u001b[36m \u001b[39m\u001b[32mIn[9]\u001b[39m\u001b[32m, line 2\u001b[39m\n\u001b[32m      1\u001b[39m model_diagnostics = visualizer.ModelDiagnostics(mmm)\n\u001b[32m----> \u001b[39m\u001b[32m2\u001b[39m \u001b[43mmodel_diagnostics\u001b[49m\u001b[43m.\u001b[49m\u001b[43mplot_rhat_boxplot\u001b[49m\u001b[43m(\u001b[49m\u001b[43m)\u001b[49m\n",
            "\u001b[36mFile \u001b[39m\u001b[32m~/Desktop/projet_meridian/projet_meridian_databricks/.venv/lib/python3.12/site-packages/meridian/analysis/visualizer.py:330\u001b[39m, in \u001b[36mModelDiagnostics.plot_rhat_boxplot\u001b[39m\u001b[34m(self)\u001b[39m\n\u001b[32m    328\u001b[39m \u001b[38;5;28;01mif\u001b[39;00m (rhat[c.RHAT] > \u001b[32m1e10\u001b[39m).any():\n\u001b[32m    329\u001b[39m   max_rhat = \u001b[38;5;28mmax\u001b[39m(rhat[c.RHAT])\n\u001b[32m--> \u001b[39m\u001b[32m330\u001b[39m   \u001b[38;5;28;01mraise\u001b[39;00m model.MCMCSamplingError(\n\u001b[32m    331\u001b[39m       \u001b[33mf\u001b[39m\u001b[33m'\u001b[39m\u001b[33mMCMC sampling failed with a maximum R-hat value of \u001b[39m\u001b[38;5;132;01m{\u001b[39;00mmax_rhat\u001b[38;5;132;01m}\u001b[39;00m\u001b[33m.\u001b[39m\u001b[33m'\u001b[39m\n\u001b[32m    332\u001b[39m   )\n\u001b[32m    334\u001b[39m \u001b[38;5;66;03m# Drop any parameters with a deterministic prior, such as slope_m, which\u001b[39;00m\n\u001b[32m    335\u001b[39m \u001b[38;5;66;03m# will produce an NaN r-hat value.\u001b[39;00m\n\u001b[32m    336\u001b[39m rhat = rhat.dropna(subset=[c.RHAT])\n",
            "\u001b[31mMCMCSamplingError\u001b[39m: MCMC sampling failed with a maximum R-hat value of 1359308390400.0."
          ]
        }
      ],
      "source": [
        "model_diagnostics = visualizer.ModelDiagnostics(mmm)\n",
        "model_diagnostics.plot_rhat_boxplot()"
      ]
    }
  ],
  "metadata": {
    "accelerator": "GPU",
    "colab": {
      "gpuType": "T4",
      "private_outputs": true,
      "provenance": []
    },
    "kernelspec": {
      "display_name": ".venv",
      "language": "python",
      "name": "python3"
    },
    "language_info": {
      "codemirror_mode": {
        "name": "ipython",
        "version": 3
      },
      "file_extension": ".py",
      "mimetype": "text/x-python",
      "name": "python",
      "nbconvert_exporter": "python",
      "pygments_lexer": "ipython3",
      "version": "3.12.10"
    }
  },
  "nbformat": 4,
  "nbformat_minor": 0
}
